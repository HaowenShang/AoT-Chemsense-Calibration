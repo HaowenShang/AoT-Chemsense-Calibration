{
 "cells": [
  {
   "cell_type": "markdown",
   "metadata": {},
   "source": [
    "This file is used for filtering NO2,CO,SO2,O3 and temperature data from the monthly data from 2018-10-01 to 2019-07-31. The data are got from https://aot-file-browser.plenar.io/data-sets/chicago-complete\n",
    "\n",
    "* Data before 2018-10-01 provide NA values for chemical gases."
   ]
  },
  {
   "cell_type": "code",
   "execution_count": 2,
   "metadata": {},
   "outputs": [],
   "source": [
    "import pandas as pd"
   ]
  },
  {
   "cell_type": "code",
   "execution_count": 9,
   "metadata": {},
   "outputs": [],
   "source": [
    "JUL19 = pd.read_csv('../../../chicago-complete.monthly.2019-07-01-to-2019-07-31/data.csv.gz', \n",
    "                            compression='gzip', header=0, sep=',')"
   ]
  },
  {
   "cell_type": "code",
   "execution_count": 10,
   "metadata": {},
   "outputs": [],
   "source": [
    "TEMP_NO2_JUL19 = JUL19[(JUL19['sensor'] =='no2')|(JUL19['sensor'] =='pr103j2')]\n",
    "TEMP_CO_JUL19 = JUL19[(JUL19['sensor'] =='co')|(JUL19['sensor'] =='pr103j2')]\n",
    "TEMP_O3_JUL19 = JUL19[(JUL19['sensor'] =='o3')|(JUL19['sensor'] =='pr103j2')]\n",
    "TEMP_SO2_JUL19 = JUL19[(JUL19['sensor'] =='so2')|(JUL19['sensor'] =='pr103j2')]"
   ]
  },
  {
   "cell_type": "code",
   "execution_count": 11,
   "metadata": {},
   "outputs": [],
   "source": [
    "#Merge the datasets to get the raw value of NO2 concentration and corresponding temperature for each node at each timestamp.\n",
    "TEMP_NO2_JUL19_merge = TEMP_NO2_JUL19.merge(TEMP_NO2_JUL19, on=['timestamp', 'node_id'])\n",
    "TEMP_NO2_JUL19_merge = TEMP_NO2_JUL19_merge[(TEMP_NO2_JUL19_merge['sensor_x']!=TEMP_NO2_JUL19_merge['sensor_y'])]\n",
    "TEMP_NO2_JUL19_merge = TEMP_NO2_JUL19_merge[TEMP_NO2_JUL19_merge['sensor_x'] == 'no2']\n",
    "TEMP_NO2_JUL19_data = TEMP_NO2_JUL19_merge[['timestamp', 'node_id', 'value_raw_x', 'value_hrf_x','value_raw_y','value_hrf_y']]"
   ]
  },
  {
   "cell_type": "code",
   "execution_count": 12,
   "metadata": {},
   "outputs": [],
   "source": [
    "#Merge the datasets to get the raw value of CO concentration and corresponding temperature for each node at each timestamp.\n",
    "TEMP_CO_JUL19_merge = TEMP_CO_JUL19.merge(TEMP_CO_JUL19, on=['timestamp', 'node_id'])\n",
    "TEMP_CO_JUL19_merge = TEMP_CO_JUL19_merge[(TEMP_CO_JUL19_merge['sensor_x']!=TEMP_CO_JUL19_merge['sensor_y'])]\n",
    "TEMP_CO_JUL19_merge = TEMP_CO_JUL19_merge[TEMP_CO_JUL19_merge['sensor_x'] == 'co']\n",
    "TEMP_CO_JUL19_data = TEMP_CO_JUL19_merge[['timestamp', 'node_id', 'value_raw_x', 'value_hrf_x','value_raw_y','value_hrf_y']]"
   ]
  },
  {
   "cell_type": "code",
   "execution_count": 13,
   "metadata": {},
   "outputs": [],
   "source": [
    "#Merge the datasets to get the raw value of O3 O3ncentration and corresponding temperature for each node at each timestamp.\n",
    "TEMP_O3_JUL19_merge = TEMP_O3_JUL19.merge(TEMP_O3_JUL19, on=['timestamp', 'node_id'])\n",
    "TEMP_O3_JUL19_merge = TEMP_O3_JUL19_merge[(TEMP_O3_JUL19_merge['sensor_x']!=TEMP_O3_JUL19_merge['sensor_y'])]\n",
    "TEMP_O3_JUL19_merge = TEMP_O3_JUL19_merge[TEMP_O3_JUL19_merge['sensor_x'] == 'o3']\n",
    "TEMP_O3_JUL19_data = TEMP_O3_JUL19_merge[['timestamp', 'node_id', 'value_raw_x', 'value_hrf_x','value_raw_y','value_hrf_y']]"
   ]
  },
  {
   "cell_type": "code",
   "execution_count": 14,
   "metadata": {},
   "outputs": [],
   "source": [
    "#Merge the datasets to get the raw value of SO2 SO2ncentration and corresponding temperature for each node at each timestamp.\n",
    "TEMP_SO2_JUL19_merge = TEMP_SO2_JUL19.merge(TEMP_SO2_JUL19, on=['timestamp', 'node_id'])\n",
    "TEMP_SO2_JUL19_merge = TEMP_SO2_JUL19_merge[(TEMP_SO2_JUL19_merge['sensor_x']!=TEMP_SO2_JUL19_merge['sensor_y'])]\n",
    "TEMP_SO2_JUL19_merge = TEMP_SO2_JUL19_merge[TEMP_SO2_JUL19_merge['sensor_x'] == 'so2']\n",
    "TEMP_SO2_JUL19_data = TEMP_SO2_JUL19_merge[['timestamp', 'node_id', 'value_raw_x', 'value_hrf_x','value_raw_y','value_hrf_y']]"
   ]
  },
  {
   "cell_type": "code",
   "execution_count": null,
   "metadata": {},
   "outputs": [],
   "source": []
  },
  {
   "cell_type": "code",
   "execution_count": 15,
   "metadata": {},
   "outputs": [],
   "source": [
    "JUN19 = pd.read_csv('../../../chicago-complete.monthly.2019-06-01-to-2019-06-30/data.csv.gz', \n",
    "                            compression='gzip', header=0, sep=',')"
   ]
  },
  {
   "cell_type": "code",
   "execution_count": 16,
   "metadata": {},
   "outputs": [],
   "source": [
    "TEMP_NO2_JUN19 = JUN19[(JUN19['sensor'] =='no2')|(JUN19['sensor'] =='pr103j2')]\n",
    "TEMP_CO_JUN19 = JUN19[(JUN19['sensor'] =='co')|(JUN19['sensor'] =='pr103j2')]\n",
    "TEMP_O3_JUN19 = JUN19[(JUN19['sensor'] =='o3')|(JUN19['sensor'] =='pr103j2')]\n",
    "TEMP_SO2_JUN19 = JUN19[(JUN19['sensor'] =='so2')|(JUN19['sensor'] =='pr103j2')]"
   ]
  },
  {
   "cell_type": "code",
   "execution_count": 17,
   "metadata": {},
   "outputs": [],
   "source": [
    "TEMP_NO2_JUN19_merge = TEMP_NO2_JUN19.merge(TEMP_NO2_JUN19, on=['timestamp', 'node_id'])\n",
    "TEMP_NO2_JUN19_merge = TEMP_NO2_JUN19_merge[(TEMP_NO2_JUN19_merge['sensor_x']!=TEMP_NO2_JUN19_merge['sensor_y'])]\n",
    "TEMP_NO2_JUN19_merge = TEMP_NO2_JUN19_merge[TEMP_NO2_JUN19_merge['sensor_x'] == 'no2']\n",
    "TEMP_NO2_JUN19_data = TEMP_NO2_JUN19_merge[['timestamp', 'node_id', 'value_raw_x', 'value_hrf_x','value_raw_y','value_hrf_y']]"
   ]
  },
  {
   "cell_type": "code",
   "execution_count": 18,
   "metadata": {},
   "outputs": [],
   "source": [
    "TEMP_CO_JUN19_merge = TEMP_CO_JUN19.merge(TEMP_CO_JUN19, on=['timestamp', 'node_id'])\n",
    "TEMP_CO_JUN19_merge = TEMP_CO_JUN19_merge[(TEMP_CO_JUN19_merge['sensor_x']!=TEMP_CO_JUN19_merge['sensor_y'])]\n",
    "TEMP_CO_JUN19_merge = TEMP_CO_JUN19_merge[TEMP_CO_JUN19_merge['sensor_x'] == 'co']\n",
    "TEMP_CO_JUN19_data = TEMP_CO_JUN19_merge[['timestamp', 'node_id', 'value_raw_x', 'value_hrf_x','value_raw_y','value_hrf_y']]"
   ]
  },
  {
   "cell_type": "code",
   "execution_count": 19,
   "metadata": {},
   "outputs": [],
   "source": [
    "TEMP_O3_JUN19_merge = TEMP_O3_JUN19.merge(TEMP_O3_JUN19, on=['timestamp', 'node_id'])\n",
    "TEMP_O3_JUN19_merge = TEMP_O3_JUN19_merge[(TEMP_O3_JUN19_merge['sensor_x']!=TEMP_O3_JUN19_merge['sensor_y'])]\n",
    "TEMP_O3_JUN19_merge = TEMP_O3_JUN19_merge[TEMP_O3_JUN19_merge['sensor_x'] == 'o3']\n",
    "TEMP_O3_JUN19_data = TEMP_O3_JUN19_merge[['timestamp', 'node_id', 'value_raw_x', 'value_hrf_x','value_raw_y','value_hrf_y']]"
   ]
  },
  {
   "cell_type": "code",
   "execution_count": 20,
   "metadata": {},
   "outputs": [],
   "source": [
    "TEMP_SO2_JUN19_merge = TEMP_SO2_JUN19.merge(TEMP_SO2_JUN19, on=['timestamp', 'node_id'])\n",
    "TEMP_SO2_JUN19_merge = TEMP_SO2_JUN19_merge[(TEMP_SO2_JUN19_merge['sensor_x']!=TEMP_SO2_JUN19_merge['sensor_y'])]\n",
    "TEMP_SO2_JUN19_merge = TEMP_SO2_JUN19_merge[TEMP_SO2_JUN19_merge['sensor_x'] == 'so2']\n",
    "TEMP_SO2_JUN19_data = TEMP_SO2_JUN19_merge[['timestamp', 'node_id', 'value_raw_x', 'value_hrf_x','value_raw_y','value_hrf_y']]"
   ]
  },
  {
   "cell_type": "code",
   "execution_count": null,
   "metadata": {},
   "outputs": [],
   "source": []
  },
  {
   "cell_type": "code",
   "execution_count": 21,
   "metadata": {},
   "outputs": [],
   "source": [
    "MAY19 = pd.read_csv('../../../chicago-complete.monthly.2019-05-01-to-2019-05-31/data.csv.gz', \n",
    "                            compression='gzip', header=0, sep=',')"
   ]
  },
  {
   "cell_type": "code",
   "execution_count": 22,
   "metadata": {},
   "outputs": [],
   "source": [
    "TEMP_NO2_MAY19 = MAY19[(MAY19['sensor'] =='no2')|(MAY19['sensor'] =='pr103j2')]\n",
    "TEMP_CO_MAY19 = MAY19[(MAY19['sensor'] =='co')|(MAY19['sensor'] =='pr103j2')]\n",
    "TEMP_O3_MAY19 = MAY19[(MAY19['sensor'] =='o3')|(MAY19['sensor'] =='pr103j2')]\n",
    "TEMP_SO2_MAY19 = MAY19[(MAY19['sensor'] =='so2')|(MAY19['sensor'] =='pr103j2')]"
   ]
  },
  {
   "cell_type": "code",
   "execution_count": 23,
   "metadata": {},
   "outputs": [],
   "source": [
    "TEMP_NO2_MAY19_merge = TEMP_NO2_MAY19.merge(TEMP_NO2_MAY19, on=['timestamp', 'node_id'])\n",
    "TEMP_NO2_MAY19_merge = TEMP_NO2_MAY19_merge[(TEMP_NO2_MAY19_merge['sensor_x']!=TEMP_NO2_MAY19_merge['sensor_y'])]\n",
    "TEMP_NO2_MAY19_merge = TEMP_NO2_MAY19_merge[TEMP_NO2_MAY19_merge['sensor_x'] == 'no2']\n",
    "TEMP_NO2_MAY19_data = TEMP_NO2_MAY19_merge[['timestamp', 'node_id', 'value_raw_x', 'value_hrf_x','value_raw_y','value_hrf_y']]"
   ]
  },
  {
   "cell_type": "code",
   "execution_count": 24,
   "metadata": {},
   "outputs": [],
   "source": [
    "TEMP_CO_MAY19_merge = TEMP_CO_MAY19.merge(TEMP_CO_MAY19, on=['timestamp', 'node_id'])\n",
    "TEMP_CO_MAY19_merge = TEMP_CO_MAY19_merge[(TEMP_CO_MAY19_merge['sensor_x']!=TEMP_CO_MAY19_merge['sensor_y'])]\n",
    "TEMP_CO_MAY19_merge = TEMP_CO_MAY19_merge[TEMP_CO_MAY19_merge['sensor_x'] == 'co']\n",
    "TEMP_CO_MAY19_data = TEMP_CO_MAY19_merge[['timestamp', 'node_id', 'value_raw_x', 'value_hrf_x','value_raw_y','value_hrf_y']]"
   ]
  },
  {
   "cell_type": "code",
   "execution_count": 25,
   "metadata": {},
   "outputs": [],
   "source": [
    "TEMP_O3_MAY19_merge = TEMP_O3_MAY19.merge(TEMP_O3_MAY19, on=['timestamp', 'node_id'])\n",
    "TEMP_O3_MAY19_merge = TEMP_O3_MAY19_merge[(TEMP_O3_MAY19_merge['sensor_x']!=TEMP_O3_MAY19_merge['sensor_y'])]\n",
    "TEMP_O3_MAY19_merge = TEMP_O3_MAY19_merge[TEMP_O3_MAY19_merge['sensor_x'] == 'o3']\n",
    "TEMP_O3_MAY19_data = TEMP_O3_MAY19_merge[['timestamp', 'node_id', 'value_raw_x', 'value_hrf_x','value_raw_y','value_hrf_y']]"
   ]
  },
  {
   "cell_type": "code",
   "execution_count": 26,
   "metadata": {},
   "outputs": [],
   "source": [
    "TEMP_SO2_MAY19_merge = TEMP_SO2_MAY19.merge(TEMP_SO2_MAY19, on=['timestamp', 'node_id'])\n",
    "TEMP_SO2_MAY19_merge = TEMP_SO2_MAY19_merge[(TEMP_SO2_MAY19_merge['sensor_x']!=TEMP_SO2_MAY19_merge['sensor_y'])]\n",
    "TEMP_SO2_MAY19_merge = TEMP_SO2_MAY19_merge[TEMP_SO2_MAY19_merge['sensor_x'] == 'so2']\n",
    "TEMP_SO2_MAY19_data = TEMP_SO2_MAY19_merge[['timestamp', 'node_id', 'value_raw_x', 'value_hrf_x','value_raw_y','value_hrf_y']]"
   ]
  },
  {
   "cell_type": "code",
   "execution_count": null,
   "metadata": {},
   "outputs": [],
   "source": []
  },
  {
   "cell_type": "code",
   "execution_count": 27,
   "metadata": {},
   "outputs": [],
   "source": [
    "APR19 = pd.read_csv('../../../chicago-complete.monthly.2019-04-01-to-2019-04-30/data.csv.gz', \n",
    "                            compression='gzip', header=0, sep=',')"
   ]
  },
  {
   "cell_type": "code",
   "execution_count": 28,
   "metadata": {},
   "outputs": [],
   "source": [
    "TEMP_NO2_APR19 = APR19[(APR19['sensor'] =='no2')|(APR19['sensor'] =='pr103j2')]\n",
    "TEMP_CO_APR19 = APR19[(APR19['sensor'] =='co')|(APR19['sensor'] =='pr103j2')]\n",
    "TEMP_O3_APR19 = APR19[(APR19['sensor'] =='o3')|(APR19['sensor'] =='pr103j2')]\n",
    "TEMP_SO2_APR19 = APR19[(APR19['sensor'] =='so2')|(APR19['sensor'] =='pr103j2')]"
   ]
  },
  {
   "cell_type": "code",
   "execution_count": 29,
   "metadata": {},
   "outputs": [],
   "source": [
    "TEMP_NO2_APR19_merge = TEMP_NO2_APR19.merge(TEMP_NO2_APR19, on=['timestamp', 'node_id'])\n",
    "TEMP_NO2_APR19_merge = TEMP_NO2_APR19_merge[(TEMP_NO2_APR19_merge['sensor_x']!=TEMP_NO2_APR19_merge['sensor_y'])]\n",
    "TEMP_NO2_APR19_merge = TEMP_NO2_APR19_merge[TEMP_NO2_APR19_merge['sensor_x'] == 'no2']\n",
    "TEMP_NO2_APR19_data = TEMP_NO2_APR19_merge[['timestamp', 'node_id', 'value_raw_x', 'value_hrf_x','value_raw_y','value_hrf_y']]"
   ]
  },
  {
   "cell_type": "code",
   "execution_count": 30,
   "metadata": {},
   "outputs": [],
   "source": [
    "TEMP_CO_APR19_merge = TEMP_CO_APR19.merge(TEMP_CO_APR19, on=['timestamp', 'node_id'])\n",
    "TEMP_CO_APR19_merge = TEMP_CO_APR19_merge[(TEMP_CO_APR19_merge['sensor_x']!=TEMP_CO_APR19_merge['sensor_y'])]\n",
    "TEMP_CO_APR19_merge = TEMP_CO_APR19_merge[TEMP_CO_APR19_merge['sensor_x'] == 'co']\n",
    "TEMP_CO_APR19_data = TEMP_CO_APR19_merge[['timestamp', 'node_id', 'value_raw_x', 'value_hrf_x','value_raw_y','value_hrf_y']]"
   ]
  },
  {
   "cell_type": "code",
   "execution_count": 31,
   "metadata": {},
   "outputs": [],
   "source": [
    "TEMP_O3_APR19_merge = TEMP_O3_APR19.merge(TEMP_O3_APR19, on=['timestamp', 'node_id'])\n",
    "TEMP_O3_APR19_merge = TEMP_O3_APR19_merge[(TEMP_O3_APR19_merge['sensor_x']!=TEMP_O3_APR19_merge['sensor_y'])]\n",
    "TEMP_O3_APR19_merge = TEMP_O3_APR19_merge[TEMP_O3_APR19_merge['sensor_x'] == 'o3']\n",
    "TEMP_O3_APR19_data = TEMP_O3_APR19_merge[['timestamp', 'node_id', 'value_raw_x', 'value_hrf_x','value_raw_y','value_hrf_y']]"
   ]
  },
  {
   "cell_type": "code",
   "execution_count": 32,
   "metadata": {},
   "outputs": [],
   "source": [
    "TEMP_SO2_APR19_merge = TEMP_SO2_APR19.merge(TEMP_SO2_APR19, on=['timestamp', 'node_id'])\n",
    "TEMP_SO2_APR19_merge = TEMP_SO2_APR19_merge[(TEMP_SO2_APR19_merge['sensor_x']!=TEMP_SO2_APR19_merge['sensor_y'])]\n",
    "TEMP_SO2_APR19_merge = TEMP_SO2_APR19_merge[TEMP_SO2_APR19_merge['sensor_x'] == 'so2']\n",
    "TEMP_SO2_APR19_data = TEMP_SO2_APR19_merge[['timestamp', 'node_id', 'value_raw_x', 'value_hrf_x','value_raw_y','value_hrf_y']]"
   ]
  },
  {
   "cell_type": "code",
   "execution_count": null,
   "metadata": {},
   "outputs": [],
   "source": []
  },
  {
   "cell_type": "code",
   "execution_count": 33,
   "metadata": {},
   "outputs": [],
   "source": [
    "MAR19 = pd.read_csv('../../../chicago-complete.monthly.2019-03-01-to-2019-03-31/data.csv.gz', \n",
    "                            compression='gzip', header=0, sep=',')"
   ]
  },
  {
   "cell_type": "code",
   "execution_count": 34,
   "metadata": {},
   "outputs": [],
   "source": [
    "TEMP_NO2_MAR19 = MAR19[(MAR19['sensor'] =='no2')|(MAR19['sensor'] =='pr103j2')]\n",
    "TEMP_CO_MAR19 = MAR19[(MAR19['sensor'] =='co')|(MAR19['sensor'] =='pr103j2')]\n",
    "TEMP_O3_MAR19 = MAR19[(MAR19['sensor'] =='o3')|(MAR19['sensor'] =='pr103j2')]\n",
    "TEMP_SO2_MAR19 = MAR19[(MAR19['sensor'] =='so2')|(MAR19['sensor'] =='pr103j2')]"
   ]
  },
  {
   "cell_type": "code",
   "execution_count": 35,
   "metadata": {},
   "outputs": [],
   "source": [
    "TEMP_NO2_MAR19_merge = TEMP_NO2_MAR19.merge(TEMP_NO2_MAR19, on=['timestamp', 'node_id'])\n",
    "TEMP_NO2_MAR19_merge = TEMP_NO2_MAR19_merge[(TEMP_NO2_MAR19_merge['sensor_x']!=TEMP_NO2_MAR19_merge['sensor_y'])]\n",
    "TEMP_NO2_MAR19_merge = TEMP_NO2_MAR19_merge[TEMP_NO2_MAR19_merge['sensor_x'] == 'no2']\n",
    "TEMP_NO2_MAR19_data = TEMP_NO2_MAR19_merge[['timestamp', 'node_id', 'value_raw_x', 'value_hrf_x','value_raw_y','value_hrf_y']]"
   ]
  },
  {
   "cell_type": "code",
   "execution_count": 36,
   "metadata": {},
   "outputs": [],
   "source": [
    "TEMP_O3_MAR19_merge = TEMP_O3_MAR19.merge(TEMP_O3_MAR19, on=['timestamp', 'node_id'])\n",
    "TEMP_O3_MAR19_merge = TEMP_O3_MAR19_merge[(TEMP_O3_MAR19_merge['sensor_x']!=TEMP_O3_MAR19_merge['sensor_y'])]\n",
    "TEMP_O3_MAR19_merge = TEMP_O3_MAR19_merge[TEMP_O3_MAR19_merge['sensor_x'] == 'o3']\n",
    "TEMP_O3_MAR19_data = TEMP_O3_MAR19_merge[['timestamp', 'node_id', 'value_raw_x', 'value_hrf_x','value_raw_y','value_hrf_y']]"
   ]
  },
  {
   "cell_type": "code",
   "execution_count": 37,
   "metadata": {},
   "outputs": [],
   "source": [
    "TEMP_SO2_MAR19_merge = TEMP_SO2_MAR19.merge(TEMP_SO2_MAR19, on=['timestamp', 'node_id'])\n",
    "TEMP_SO2_MAR19_merge = TEMP_SO2_MAR19_merge[(TEMP_SO2_MAR19_merge['sensor_x']!=TEMP_SO2_MAR19_merge['sensor_y'])]\n",
    "TEMP_SO2_MAR19_merge = TEMP_SO2_MAR19_merge[TEMP_SO2_MAR19_merge['sensor_x'] == 'so2']\n",
    "TEMP_SO2_MAR19_data = TEMP_SO2_MAR19_merge[['timestamp', 'node_id', 'value_raw_x', 'value_hrf_x','value_raw_y','value_hrf_y']]"
   ]
  },
  {
   "cell_type": "code",
   "execution_count": null,
   "metadata": {},
   "outputs": [],
   "source": []
  },
  {
   "cell_type": "code",
   "execution_count": 38,
   "metadata": {},
   "outputs": [],
   "source": [
    "FEB19 = pd.read_csv('../../../chicago-complete.monthly.2019-02-01-to-2019-02-28/data.csv.gz', \n",
    "                            compression='gzip', header=0, sep=',')"
   ]
  },
  {
   "cell_type": "code",
   "execution_count": 39,
   "metadata": {},
   "outputs": [],
   "source": [
    "TEMP_NO2_FEB19 = FEB19[(FEB19['sensor'] =='no2')|(FEB19['sensor'] =='pr103j2')]\n",
    "TEMP_CO_FEB19 = FEB19[(FEB19['sensor'] =='co')|(FEB19['sensor'] =='pr103j2')]\n",
    "TEMP_O3_FEB19 = FEB19[(FEB19['sensor'] =='o3')|(FEB19['sensor'] =='pr103j2')]\n",
    "TEMP_SO2_FEB19 = FEB19[(FEB19['sensor'] =='so2')|(FEB19['sensor'] =='pr103j2')]"
   ]
  },
  {
   "cell_type": "code",
   "execution_count": 40,
   "metadata": {},
   "outputs": [],
   "source": [
    "TEMP_NO2_FEB19_merge = TEMP_NO2_FEB19.merge(TEMP_NO2_FEB19, on=['timestamp', 'node_id'])\n",
    "TEMP_NO2_FEB19_merge = TEMP_NO2_FEB19_merge[(TEMP_NO2_FEB19_merge['sensor_x']!=TEMP_NO2_FEB19_merge['sensor_y'])]\n",
    "TEMP_NO2_FEB19_merge = TEMP_NO2_FEB19_merge[TEMP_NO2_FEB19_merge['sensor_x'] == 'no2']\n",
    "TEMP_NO2_FEB19_data = TEMP_NO2_FEB19_merge[['timestamp', 'node_id', 'value_raw_x', 'value_hrf_x','value_raw_y','value_hrf_y']]"
   ]
  },
  {
   "cell_type": "code",
   "execution_count": 41,
   "metadata": {},
   "outputs": [],
   "source": [
    "TEMP_CO_FEB19_merge = TEMP_CO_FEB19.merge(TEMP_CO_FEB19, on=['timestamp', 'node_id'])\n",
    "TEMP_CO_FEB19_merge = TEMP_CO_FEB19_merge[(TEMP_CO_FEB19_merge['sensor_x']!=TEMP_CO_FEB19_merge['sensor_y'])]\n",
    "TEMP_CO_FEB19_merge = TEMP_CO_FEB19_merge[TEMP_CO_FEB19_merge['sensor_x'] == 'co']\n",
    "TEMP_CO_FEB19_data = TEMP_CO_FEB19_merge[['timestamp', 'node_id', 'value_raw_x', 'value_hrf_x','value_raw_y','value_hrf_y']]"
   ]
  },
  {
   "cell_type": "code",
   "execution_count": 42,
   "metadata": {},
   "outputs": [],
   "source": [
    "TEMP_O3_FEB19_merge = TEMP_O3_FEB19.merge(TEMP_O3_FEB19, on=['timestamp', 'node_id'])\n",
    "TEMP_O3_FEB19_merge = TEMP_O3_FEB19_merge[(TEMP_O3_FEB19_merge['sensor_x']!=TEMP_O3_FEB19_merge['sensor_y'])]\n",
    "TEMP_O3_FEB19_merge = TEMP_O3_FEB19_merge[TEMP_O3_FEB19_merge['sensor_x'] == 'o3']\n",
    "TEMP_O3_FEB19_data = TEMP_O3_FEB19_merge[['timestamp', 'node_id', 'value_raw_x', 'value_hrf_x','value_raw_y','value_hrf_y']]"
   ]
  },
  {
   "cell_type": "code",
   "execution_count": 43,
   "metadata": {},
   "outputs": [],
   "source": [
    "TEMP_SO2_FEB19_merge = TEMP_SO2_FEB19.merge(TEMP_SO2_FEB19, on=['timestamp', 'node_id'])\n",
    "TEMP_SO2_FEB19_merge = TEMP_SO2_FEB19_merge[(TEMP_SO2_FEB19_merge['sensor_x']!=TEMP_SO2_FEB19_merge['sensor_y'])]\n",
    "TEMP_SO2_FEB19_merge = TEMP_SO2_FEB19_merge[TEMP_SO2_FEB19_merge['sensor_x'] == 'so2']\n",
    "TEMP_SO2_FEB19_data = TEMP_SO2_FEB19_merge[['timestamp', 'node_id', 'value_raw_x', 'value_hrf_x','value_raw_y','value_hrf_y']]"
   ]
  },
  {
   "cell_type": "code",
   "execution_count": null,
   "metadata": {},
   "outputs": [],
   "source": []
  },
  {
   "cell_type": "code",
   "execution_count": 44,
   "metadata": {},
   "outputs": [],
   "source": [
    "JAN19 = pd.read_csv('../../../chicago-complete.monthly.2019-01-01-to-2019-01-31/data.csv.gz', \n",
    "                            compression='gzip', header=0, sep=',')"
   ]
  },
  {
   "cell_type": "code",
   "execution_count": 45,
   "metadata": {},
   "outputs": [],
   "source": [
    "TEMP_NO2_JAN19 = JAN19[(JAN19['sensor'] =='no2')|(JAN19['sensor'] =='pr103j2')]\n",
    "TEMP_CO_JAN19 = JAN19[(JAN19['sensor'] =='co')|(JAN19['sensor'] =='pr103j2')]\n",
    "TEMP_O3_JAN19 = JAN19[(JAN19['sensor'] =='o3')|(JAN19['sensor'] =='pr103j2')]\n",
    "TEMP_SO2_JAN19 = JAN19[(JAN19['sensor'] =='so2')|(JAN19['sensor'] =='pr103j2')]"
   ]
  },
  {
   "cell_type": "code",
   "execution_count": 46,
   "metadata": {},
   "outputs": [],
   "source": [
    "TEMP_NO2_JAN19_merge = TEMP_NO2_JAN19.merge(TEMP_NO2_JAN19, on=['timestamp', 'node_id'])\n",
    "TEMP_NO2_JAN19_merge = TEMP_NO2_JAN19_merge[(TEMP_NO2_JAN19_merge['sensor_x']!=TEMP_NO2_JAN19_merge['sensor_y'])]\n",
    "TEMP_NO2_JAN19_merge = TEMP_NO2_JAN19_merge[TEMP_NO2_JAN19_merge['sensor_x'] == 'no2']\n",
    "TEMP_NO2_JAN19_data = TEMP_NO2_JAN19_merge[['timestamp', 'node_id', 'value_raw_x', 'value_hrf_x','value_raw_y','value_hrf_y']]"
   ]
  },
  {
   "cell_type": "code",
   "execution_count": 47,
   "metadata": {},
   "outputs": [],
   "source": [
    "TEMP_CO_JAN19_merge = TEMP_CO_JAN19.merge(TEMP_CO_JAN19, on=['timestamp', 'node_id'])\n",
    "TEMP_CO_JAN19_merge = TEMP_CO_JAN19_merge[(TEMP_CO_JAN19_merge['sensor_x']!=TEMP_CO_JAN19_merge['sensor_y'])]\n",
    "TEMP_CO_JAN19_merge = TEMP_CO_JAN19_merge[TEMP_CO_JAN19_merge['sensor_x'] == 'co']\n",
    "TEMP_CO_JAN19_data = TEMP_CO_JAN19_merge[['timestamp', 'node_id', 'value_raw_x', 'value_hrf_x','value_raw_y','value_hrf_y']]"
   ]
  },
  {
   "cell_type": "code",
   "execution_count": 48,
   "metadata": {},
   "outputs": [],
   "source": [
    "TEMP_O3_JAN19_merge = TEMP_O3_JAN19.merge(TEMP_O3_JAN19, on=['timestamp', 'node_id'])\n",
    "TEMP_O3_JAN19_merge = TEMP_O3_JAN19_merge[(TEMP_O3_JAN19_merge['sensor_x']!=TEMP_O3_JAN19_merge['sensor_y'])]\n",
    "TEMP_O3_JAN19_merge = TEMP_O3_JAN19_merge[TEMP_O3_JAN19_merge['sensor_x'] == 'o3']\n",
    "TEMP_O3_JAN19_data = TEMP_O3_JAN19_merge[['timestamp', 'node_id', 'value_raw_x', 'value_hrf_x','value_raw_y','value_hrf_y']]"
   ]
  },
  {
   "cell_type": "code",
   "execution_count": 49,
   "metadata": {},
   "outputs": [],
   "source": [
    "TEMP_SO2_JAN19_merge = TEMP_SO2_JAN19.merge(TEMP_SO2_JAN19, on=['timestamp', 'node_id'])\n",
    "TEMP_SO2_JAN19_merge = TEMP_SO2_JAN19_merge[(TEMP_SO2_JAN19_merge['sensor_x']!=TEMP_SO2_JAN19_merge['sensor_y'])]\n",
    "TEMP_SO2_JAN19_merge = TEMP_SO2_JAN19_merge[TEMP_SO2_JAN19_merge['sensor_x'] == 'so2']\n",
    "TEMP_SO2_JAN19_data = TEMP_SO2_JAN19_merge[['timestamp', 'node_id', 'value_raw_x', 'value_hrf_x','value_raw_y','value_hrf_y']]"
   ]
  },
  {
   "cell_type": "code",
   "execution_count": null,
   "metadata": {},
   "outputs": [],
   "source": []
  },
  {
   "cell_type": "code",
   "execution_count": 50,
   "metadata": {},
   "outputs": [],
   "source": [
    "DEC18 = pd.read_csv('../../../chicago-complete.monthly.2018-12-01-to-2018-12-31/data.csv.gz', \n",
    "                            compression='gzip', header=0, sep=',')"
   ]
  },
  {
   "cell_type": "code",
   "execution_count": 51,
   "metadata": {},
   "outputs": [],
   "source": [
    "TEMP_NO2_DEC18 = DEC18[(DEC18['sensor'] =='no2')|(DEC18['sensor'] =='pr103j2')]\n",
    "TEMP_CO_DEC18 = DEC18[(DEC18['sensor'] =='co')|(DEC18['sensor'] =='pr103j2')]\n",
    "TEMP_O3_DEC18 = DEC18[(DEC18['sensor'] =='o3')|(DEC18['sensor'] =='pr103j2')]\n",
    "TEMP_SO2_DEC18 = DEC18[(DEC18['sensor'] =='so2')|(DEC18['sensor'] =='pr103j2')]"
   ]
  },
  {
   "cell_type": "code",
   "execution_count": 52,
   "metadata": {},
   "outputs": [],
   "source": [
    "TEMP_NO2_DEC18_merge = TEMP_NO2_DEC18.merge(TEMP_NO2_DEC18, on=['timestamp', 'node_id'])\n",
    "TEMP_NO2_DEC18_merge = TEMP_NO2_DEC18_merge[(TEMP_NO2_DEC18_merge['sensor_x']!=TEMP_NO2_DEC18_merge['sensor_y'])]\n",
    "TEMP_NO2_DEC18_merge = TEMP_NO2_DEC18_merge[TEMP_NO2_DEC18_merge['sensor_x'] == 'no2']\n",
    "TEMP_NO2_DEC18_data = TEMP_NO2_DEC18_merge[['timestamp', 'node_id', 'value_raw_x', 'value_hrf_x','value_raw_y','value_hrf_y']]"
   ]
  },
  {
   "cell_type": "code",
   "execution_count": 53,
   "metadata": {},
   "outputs": [],
   "source": [
    "TEMP_CO_DEC18_merge = TEMP_CO_DEC18.merge(TEMP_CO_DEC18, on=['timestamp', 'node_id'])\n",
    "TEMP_CO_DEC18_merge = TEMP_CO_DEC18_merge[(TEMP_CO_DEC18_merge['sensor_x']!=TEMP_CO_DEC18_merge['sensor_y'])]\n",
    "TEMP_CO_DEC18_merge = TEMP_CO_DEC18_merge[TEMP_CO_DEC18_merge['sensor_x'] == 'co']\n",
    "TEMP_CO_DEC18_data = TEMP_CO_DEC18_merge[['timestamp', 'node_id', 'value_raw_x', 'value_hrf_x','value_raw_y','value_hrf_y']]"
   ]
  },
  {
   "cell_type": "code",
   "execution_count": 54,
   "metadata": {},
   "outputs": [],
   "source": [
    "TEMP_O3_DEC18_merge = TEMP_O3_DEC18.merge(TEMP_O3_DEC18, on=['timestamp', 'node_id'])\n",
    "TEMP_O3_DEC18_merge = TEMP_O3_DEC18_merge[(TEMP_O3_DEC18_merge['sensor_x']!=TEMP_O3_DEC18_merge['sensor_y'])]\n",
    "TEMP_O3_DEC18_merge = TEMP_O3_DEC18_merge[TEMP_O3_DEC18_merge['sensor_x'] == 'o3']\n",
    "TEMP_O3_DEC18_data = TEMP_O3_DEC18_merge[['timestamp', 'node_id', 'value_raw_x', 'value_hrf_x','value_raw_y','value_hrf_y']]"
   ]
  },
  {
   "cell_type": "code",
   "execution_count": 55,
   "metadata": {},
   "outputs": [],
   "source": [
    "TEMP_SO2_DEC18_merge = TEMP_SO2_DEC18.merge(TEMP_SO2_DEC18, on=['timestamp', 'node_id'])\n",
    "TEMP_SO2_DEC18_merge = TEMP_SO2_DEC18_merge[(TEMP_SO2_DEC18_merge['sensor_x']!=TEMP_SO2_DEC18_merge['sensor_y'])]\n",
    "TEMP_SO2_DEC18_merge = TEMP_SO2_DEC18_merge[TEMP_SO2_DEC18_merge['sensor_x'] == 'so2']\n",
    "TEMP_SO2_DEC18_data = TEMP_SO2_DEC18_merge[['timestamp', 'node_id', 'value_raw_x', 'value_hrf_x','value_raw_y','value_hrf_y']]"
   ]
  },
  {
   "cell_type": "code",
   "execution_count": null,
   "metadata": {},
   "outputs": [],
   "source": []
  },
  {
   "cell_type": "code",
   "execution_count": 3,
   "metadata": {},
   "outputs": [],
   "source": [
    "NOV18 = pd.read_csv('../../../chicago-complete.monthly.2018-11-01-to-2018-11-30/data.csv.gz', \n",
    "                            compression='gzip', header=0, sep=',')"
   ]
  },
  {
   "cell_type": "code",
   "execution_count": 4,
   "metadata": {},
   "outputs": [],
   "source": [
    "TEMP_NO2_NOV18 = NOV18[(NOV18['sensor'] =='no2')|(NOV18['sensor'] =='pr103j2')]\n",
    "TEMP_CO_NOV18 = NOV18[(NOV18['sensor'] =='co')|(NOV18['sensor'] =='pr103j2')]\n",
    "TEMP_O3_NOV18 = NOV18[(NOV18['sensor'] =='o3')|(NOV18['sensor'] =='pr103j2')]\n",
    "TEMP_SO2_NOV18 = NOV18[(NOV18['sensor'] =='so2')|(NOV18['sensor'] =='pr103j2')]"
   ]
  },
  {
   "cell_type": "code",
   "execution_count": 5,
   "metadata": {},
   "outputs": [],
   "source": [
    "TEMP_NO2_NOV18_merge = TEMP_NO2_NOV18.merge(TEMP_NO2_NOV18, on=['timestamp', 'node_id'])\n",
    "TEMP_NO2_NOV18_merge = TEMP_NO2_NOV18_merge[(TEMP_NO2_NOV18_merge['sensor_x']!=TEMP_NO2_NOV18_merge['sensor_y'])]\n",
    "TEMP_NO2_NOV18_merge = TEMP_NO2_NOV18_merge[TEMP_NO2_NOV18_merge['sensor_x'] == 'no2']\n",
    "TEMP_NO2_NOV18_data = TEMP_NO2_NOV18_merge[['timestamp', 'node_id', 'value_raw_x', 'value_hrf_x','value_raw_y','value_hrf_y']]"
   ]
  },
  {
   "cell_type": "code",
   "execution_count": 6,
   "metadata": {},
   "outputs": [],
   "source": [
    "TEMP_CO_NOV18_merge = TEMP_CO_NOV18.merge(TEMP_CO_NOV18, on=['timestamp', 'node_id'])\n",
    "TEMP_CO_NOV18_merge = TEMP_CO_NOV18_merge[(TEMP_CO_NOV18_merge['sensor_x']!=TEMP_CO_NOV18_merge['sensor_y'])]\n",
    "TEMP_CO_NOV18_merge = TEMP_CO_NOV18_merge[TEMP_CO_NOV18_merge['sensor_x'] == 'co']\n",
    "TEMP_CO_NOV18_data = TEMP_CO_NOV18_merge[['timestamp', 'node_id', 'value_raw_x', 'value_hrf_x','value_raw_y','value_hrf_y']]"
   ]
  },
  {
   "cell_type": "code",
   "execution_count": 7,
   "metadata": {},
   "outputs": [],
   "source": [
    "TEMP_O3_NOV18_merge = TEMP_O3_NOV18.merge(TEMP_O3_NOV18, on=['timestamp', 'node_id'])\n",
    "TEMP_O3_NOV18_merge = TEMP_O3_NOV18_merge[(TEMP_O3_NOV18_merge['sensor_x']!=TEMP_O3_NOV18_merge['sensor_y'])]\n",
    "TEMP_O3_NOV18_merge = TEMP_O3_NOV18_merge[TEMP_O3_NOV18_merge['sensor_x'] == 'o3']\n",
    "TEMP_O3_NOV18_data = TEMP_O3_NOV18_merge[['timestamp', 'node_id', 'value_raw_x', 'value_hrf_x','value_raw_y','value_hrf_y']]"
   ]
  },
  {
   "cell_type": "code",
   "execution_count": 8,
   "metadata": {},
   "outputs": [],
   "source": [
    "TEMP_SO2_NOV18_merge = TEMP_SO2_NOV18.merge(TEMP_SO2_NOV18, on=['timestamp', 'node_id'])\n",
    "TEMP_SO2_NOV18_merge = TEMP_SO2_NOV18_merge[(TEMP_SO2_NOV18_merge['sensor_x']!=TEMP_SO2_NOV18_merge['sensor_y'])]\n",
    "TEMP_SO2_NOV18_merge = TEMP_SO2_NOV18_merge[TEMP_SO2_NOV18_merge['sensor_x'] == 'so2']\n",
    "TEMP_SO2_NOV18_data = TEMP_SO2_NOV18_merge[['timestamp', 'node_id', 'value_raw_x', 'value_hrf_x','value_raw_y','value_hrf_y']]"
   ]
  },
  {
   "cell_type": "code",
   "execution_count": null,
   "metadata": {},
   "outputs": [],
   "source": []
  },
  {
   "cell_type": "code",
   "execution_count": null,
   "metadata": {},
   "outputs": [],
   "source": [
    "OCT18 = pd.read_csv('../../../chicago-complete.monthly.2018-10-01-to-2018-10-31/data.csv.gz', \n",
    "                            compression='gzip', header=0, sep=',')"
   ]
  },
  {
   "cell_type": "code",
   "execution_count": null,
   "metadata": {},
   "outputs": [],
   "source": [
    "TEMP_NO2_OCT18 = OCT18[(OCT18['sensor'] =='no2')|(OCT18['sensor'] =='pr103j2')]\n",
    "TEMP_CO_OCT18 = OCT18[(OCT18['sensor'] =='co')|(OCT18['sensor'] =='pr103j2')]\n",
    "TEMP_O3_OCT18 = OCT18[(OCT18['sensor'] =='o3')|(OCT18['sensor'] =='pr103j2')]\n",
    "TEMP_SO2_OCT18 = OCT18[(OCT18['sensor'] =='so2')|(OCT18['sensor'] =='pr103j2')]"
   ]
  },
  {
   "cell_type": "code",
   "execution_count": null,
   "metadata": {},
   "outputs": [],
   "source": [
    "TEMP_NO2_OCT18_merge = TEMP_NO2_OCT18.merge(TEMP_NO2_OCT18, on=['timestamp', 'node_id'])\n",
    "TEMP_NO2_OCT18_merge = TEMP_NO2_OCT18_merge[(TEMP_NO2_OCT18_merge['sensor_x']!=TEMP_NO2_OCT18_merge['sensor_y'])]\n",
    "TEMP_NO2_OCT18_merge = TEMP_NO2_OCT18_merge[TEMP_NO2_OCT18_merge['sensor_x'] == 'no2']\n",
    "TEMP_NO2_OCT18_data = TEMP_NO2_OCT18_merge[['timestamp', 'node_id', 'value_raw_x', 'value_hrf_x','value_raw_y','value_hrf_y']]"
   ]
  },
  {
   "cell_type": "code",
   "execution_count": null,
   "metadata": {},
   "outputs": [],
   "source": [
    "TEMP_CO_OCT18_merge = TEMP_CO_OCT18.merge(TEMP_CO_OCT18, on=['timestamp', 'node_id'])\n",
    "TEMP_CO_OCT18_merge = TEMP_CO_OCT18_merge[(TEMP_CO_OCT18_merge['sensor_x']!=TEMP_CO_OCT18_merge['sensor_y'])]\n",
    "TEMP_CO_OCT18_merge = TEMP_CO_OCT18_merge[TEMP_CO_OCT18_merge['sensor_x'] == 'co']\n",
    "TEMP_CO_OCT18_data = TEMP_CO_OCT18_merge[['timestamp', 'node_id', 'value_raw_x', 'value_hrf_x','value_raw_y','value_hrf_y']]"
   ]
  },
  {
   "cell_type": "code",
   "execution_count": null,
   "metadata": {},
   "outputs": [],
   "source": [
    "TEMP_O3_OCT18_merge = TEMP_O3_OCT18.merge(TEMP_O3_OCT18, on=['timestamp', 'node_id'])\n",
    "TEMP_O3_OCT18_merge = TEMP_O3_OCT18_merge[(TEMP_O3_OCT18_merge['sensor_x']!=TEMP_O3_OCT18_merge['sensor_y'])]\n",
    "TEMP_O3_OCT18_merge = TEMP_O3_OCT18_merge[TEMP_O3_OCT18_merge['sensor_x'] == 'o3']\n",
    "TEMP_O3_OCT18_data = TEMP_O3_OCT18_merge[['timestamp', 'node_id', 'value_raw_x', 'value_hrf_x','value_raw_y','value_hrf_y']]"
   ]
  },
  {
   "cell_type": "code",
   "execution_count": null,
   "metadata": {},
   "outputs": [],
   "source": [
    "TEMP_SO2_OCT18_merge = TEMP_SO2_OCT18.merge(TEMP_SO2_OCT18, on=['timestamp', 'node_id'])\n",
    "TEMP_SO2_OCT18_merge = TEMP_SO2_OCT18_merge[(TEMP_SO2_OCT18_merge['sensor_x']!=TEMP_SO2_OCT18_merge['sensor_y'])]\n",
    "TEMP_SO2_OCT18_merge = TEMP_SO2_OCT18_merge[TEMP_SO2_OCT18_merge['sensor_x'] == 'so2']\n",
    "TEMP_SO2_OCT18_data = TEMP_SO2_OCT18_merge[['timestamp', 'node_id', 'value_raw_x', 'value_hrf_x','value_raw_y','value_hrf_y']]"
   ]
  },
  {
   "cell_type": "code",
   "execution_count": null,
   "metadata": {},
   "outputs": [],
   "source": []
  },
  {
   "cell_type": "code",
   "execution_count": null,
   "metadata": {},
   "outputs": [],
   "source": [
    "# Merge all dataframes and get a new dataframe contains NO2 raw value and temperature data from 2018-10-01 to 2019-07-31.\n",
    "frames1 = [TEMP_NO2_OCT18_data, TEMP_NO2_NOV18_data, TEMP_NO2_DEC18_data, TEMP_NO2_JAN19_data, TEMP_NO2_FEB19_data,\n",
    "         TEMP_NO2_MAR19_data, TEMP_NO2_APR19_data, TEMP_NO2_MAY19_data, TEMP_NO2_JUN19_data, TEMP_NO2_JUL19_data]\n",
    "\n",
    "result1 = pd.concat(frames1)\n",
    "result1 = result1.rename({'value_raw_x':'no2_raw', 'value_hrf_x':'no2_hrf','value_raw_y':'temp_raw','value_hrf_y':'temp'}, axis =1) \n",
    "result1.to_csv('data/TEMP_NO2_raw_hrf.csv')"
   ]
  },
  {
   "cell_type": "code",
   "execution_count": null,
   "metadata": {},
   "outputs": [],
   "source": [
    "frames2 = [TEMP_CO_OCT18_data, TEMP_CO_NOV18_data, TEMP_CO_DEC18_data, TEMP_CO_JAN19_data, TEMP_CO_FEB19_data,\n",
    "         TEMP_CO_MAR19_data, TEMP_CO_APR19_data, TEMP_CO_MAY19_data, TEMP_CO_JUN19_data, TEMP_CO_JUL19_data]\n",
    "\n",
    "result2 = pd.concat(frames2)\n",
    "result2 = result2.rename({'value_raw_x':'co_raw', 'value_hrf_x':'co_hrf','value_raw_y':'temp_raw','value_hrf_y':'temp'}, axis =1)\n",
    "result2.to_csv('data/TEMP_CO_raw_hrf.csv')"
   ]
  },
  {
   "cell_type": "code",
   "execution_count": null,
   "metadata": {},
   "outputs": [],
   "source": [
    "frames3 = [TEMP_O3_OCT18_data, TEMP_O3_NOV18_data, TEMP_O3_DEC18_data, TEMP_O3_JAN19_data, TEMP_O3_FEB19_data,\n",
    "         TEMP_O3_MAR19_data, TEMP_O3_APR19_data, TEMP_O3_MAY19_data, TEMP_O3_JUN19_data, TEMP_O3_JUL19_data]\n",
    "\n",
    "result3 = pd.concat(frames3)\n",
    "result3 = result3.rename({'value_raw_x':'o3_raw', 'value_hrf_x':'o3_hrf','value_raw_y':'temp_raw','value_hrf_y':'temp'}, axis =1)\n",
    "result3.to_csv('data/TEMP_O3_raw_hrf.csv')"
   ]
  },
  {
   "cell_type": "code",
   "execution_count": null,
   "metadata": {},
   "outputs": [],
   "source": [
    "frames4 = [TEMP_SO2_OCT18_data, TEMP_SO2_NOV18_data, TEMP_SO2_DEC18_data, TEMP_SO2_JAN19_data, TEMP_SO2_FEB19_data,\n",
    "         TEMP_SO2_MAR19_data, TEMP_SO2_APR19_data, TEMP_SO2_MAY19_data, TEMP_SO2_JUN19_data, TEMP_SO2_JUL19_data]\n",
    "\n",
    "result4 = pd.concat(frames4)\n",
    "result4 = result4.rename({'value_raw_x':'so2_raw', 'value_hrf_x':'so2_hrf','value_raw_y':'temp_raw','value_hrf_y':'temp'}, axis =1)\n",
    "result4.to_csv('data/TEMP_SO2_raw_hrf.csv')"
   ]
  },
  {
   "cell_type": "code",
   "execution_count": null,
   "metadata": {},
   "outputs": [],
   "source": []
  },
  {
   "cell_type": "code",
   "execution_count": null,
   "metadata": {},
   "outputs": [],
   "source": []
  },
  {
   "cell_type": "code",
   "execution_count": null,
   "metadata": {},
   "outputs": [],
   "source": []
  }
 ],
 "metadata": {
  "kernelspec": {
   "display_name": "Python 3",
   "language": "python",
   "name": "python3"
  },
  "language_info": {
   "codemirror_mode": {
    "name": "ipython",
    "version": 3
   },
   "file_extension": ".py",
   "mimetype": "text/x-python",
   "name": "python",
   "nbconvert_exporter": "python",
   "pygments_lexer": "ipython3",
   "version": "3.7.3"
  }
 },
 "nbformat": 4,
 "nbformat_minor": 2
}
